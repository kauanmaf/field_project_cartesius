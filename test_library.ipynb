{
 "cells": [
  {
   "cell_type": "code",
   "execution_count": 1,
   "metadata": {},
   "outputs": [
    {
     "name": "stdout",
     "output_type": "stream",
     "text": [
      "Defaulting to user installation because normal site-packages is not writeable\n",
      "Requirement already satisfied: backtesting in c:\\users\\b51063\\appdata\\roaming\\python\\python311\\site-packages (0.3.3)\n",
      "Requirement already satisfied: numpy>=1.17.0 in c:\\programdata\\anaconda3\\lib\\site-packages (from backtesting) (1.26.4)\n",
      "Requirement already satisfied: pandas!=0.25.0,>=0.25.0 in c:\\programdata\\anaconda3\\lib\\site-packages (from backtesting) (2.1.4)\n",
      "Requirement already satisfied: bokeh>=1.4.0 in c:\\programdata\\anaconda3\\lib\\site-packages (from backtesting) (3.3.4)\n",
      "Requirement already satisfied: Jinja2>=2.9 in c:\\programdata\\anaconda3\\lib\\site-packages (from bokeh>=1.4.0->backtesting) (3.1.3)\n",
      "Requirement already satisfied: contourpy>=1 in c:\\programdata\\anaconda3\\lib\\site-packages (from bokeh>=1.4.0->backtesting) (1.2.0)\n",
      "Requirement already satisfied: packaging>=16.8 in c:\\programdata\\anaconda3\\lib\\site-packages (from bokeh>=1.4.0->backtesting) (23.1)\n",
      "Requirement already satisfied: pillow>=7.1.0 in c:\\programdata\\anaconda3\\lib\\site-packages (from bokeh>=1.4.0->backtesting) (10.2.0)\n",
      "Requirement already satisfied: PyYAML>=3.10 in c:\\programdata\\anaconda3\\lib\\site-packages (from bokeh>=1.4.0->backtesting) (6.0.1)\n",
      "Requirement already satisfied: tornado>=5.1 in c:\\programdata\\anaconda3\\lib\\site-packages (from bokeh>=1.4.0->backtesting) (6.3.3)\n",
      "Requirement already satisfied: xyzservices>=2021.09.1 in c:\\programdata\\anaconda3\\lib\\site-packages (from bokeh>=1.4.0->backtesting) (2022.9.0)\n",
      "Requirement already satisfied: python-dateutil>=2.8.2 in c:\\programdata\\anaconda3\\lib\\site-packages (from pandas!=0.25.0,>=0.25.0->backtesting) (2.8.2)\n",
      "Requirement already satisfied: pytz>=2020.1 in c:\\programdata\\anaconda3\\lib\\site-packages (from pandas!=0.25.0,>=0.25.0->backtesting) (2023.3.post1)\n",
      "Requirement already satisfied: tzdata>=2022.1 in c:\\programdata\\anaconda3\\lib\\site-packages (from pandas!=0.25.0,>=0.25.0->backtesting) (2023.3)\n",
      "Requirement already satisfied: MarkupSafe>=2.0 in c:\\programdata\\anaconda3\\lib\\site-packages (from Jinja2>=2.9->bokeh>=1.4.0->backtesting) (2.1.3)\n",
      "Requirement already satisfied: six>=1.5 in c:\\programdata\\anaconda3\\lib\\site-packages (from python-dateutil>=2.8.2->pandas!=0.25.0,>=0.25.0->backtesting) (1.16.0)\n"
     ]
    }
   ],
   "source": [
    "!pip install backtesting"
   ]
  },
  {
   "cell_type": "code",
   "execution_count": 3,
   "metadata": {},
   "outputs": [],
   "source": [
    "from backtesting import Backtest, Strategy\n",
    "import pandas as pd"
   ]
  },
  {
   "cell_type": "code",
   "execution_count": 18,
   "metadata": {},
   "outputs": [],
   "source": [
    "tsla_data = pd.read_csv(\"data/TSLA.csv\")\n",
    "tsla_data[\"Date\"] = pd.to_datetime(tsla_data[\"Date\"])\n",
    "tsla_data.set_index(\"Date\", inplace = True)\n",
    "# tsla_data = pd.Series(tsla_data[\"Adj Close\"].values, index = tsla_data[\"Date\"])"
   ]
  },
  {
   "cell_type": "code",
   "execution_count": 15,
   "metadata": {},
   "outputs": [],
   "source": [
    "class MA_crossover_bt(Strategy):\n",
    "    short_period = 10\n",
    "    long_period = 50\n",
    "\n",
    "    def init(self):\n",
    "        self.short_period = short_period\n",
    "        self.long_period = long_period\n",
    "        # Inicializando as médias móveis: curta e longa\n",
    "        self.short_ma = self.I(self.moving_average, self.data.Close, self.short_period)\n",
    "        self.long_ma = self.I(self.moving_average, self.data.Close, self.long_period)\n",
    "    \n",
    "    def moving_average(self, data, size):\n",
    "        \"\"\"Função para calcular a média móvel exponencial dos dados\"\"\"\n",
    "        return pd.Series(data).ewm(span=size, adjust=False).mean()\n",
    "\n",
    "    def next(self):\n",
    "        # Certifique-se de que temos dados suficientes para realizar a operação\n",
    "        if len(self.data) < max(self.short_period, self.long_period):\n",
    "            return\n",
    "        \n",
    "        # Calculando a diferença e a variação da média curta\n",
    "        diff = self.short_ma[-1] - self.long_ma[-1]\n",
    "        short_average_var = self.short_ma[-1] - self.short_ma[-2] if len(self.short_ma) > 1 else 0\n",
    "\n",
    "        # Condições de compra e venda adaptadas da sua estratégia:\n",
    "        # Compra se a média curta está maior que a longa e subindo\n",
    "        if diff > 0 and short_average_var > 0 and not self.position:\n",
    "            self.buy()\n",
    "        \n",
    "        # Venda se a média curta está menor que a longa e caindo\n",
    "        elif diff < 0 and short_average_var < 0 and self.position:\n",
    "            self.sell()"
   ]
  },
  {
   "cell_type": "code",
   "execution_count": 19,
   "metadata": {},
   "outputs": [
    {
     "name": "stdout",
     "output_type": "stream",
     "text": [
      "Start                     2010-06-29 00:00:00\n",
      "End                       2024-08-21 00:00:00\n",
      "Duration                   5167 days 00:00:00\n",
      "Exposure Time [%]                   98.511654\n",
      "Equity Final [$]                1625937.45583\n",
      "Equity Peak [$]                2993602.077736\n",
      "Return [%]                       16159.374558\n",
      "Buy & Hold Return [%]            13918.624358\n",
      "Return (Ann.) [%]                   43.374655\n",
      "Volatility (Ann.) [%]               87.250031\n",
      "Sharpe Ratio                         0.497131\n",
      "Sortino Ratio                        1.177551\n",
      "Calmar Ratio                         0.589072\n",
      "Max. Drawdown [%]                   -73.63219\n",
      "Avg. Drawdown [%]                   -9.737993\n",
      "Max. Drawdown Duration     1021 days 00:00:00\n",
      "Avg. Drawdown Duration       64 days 00:00:00\n",
      "# Trades                                    1\n",
      "Win Rate [%]                            100.0\n",
      "Best Trade [%]                   16161.201475\n",
      "Worst Trade [%]                  16161.201475\n",
      "Avg. Trade [%]                   16161.201475\n",
      "Max. Trade Duration        5090 days 00:00:00\n",
      "Avg. Trade Duration        5090 days 00:00:00\n",
      "Profit Factor                             NaN\n",
      "Expectancy [%]                   16161.201475\n",
      "SQN                                       NaN\n",
      "_strategy                     MA_crossover_bt\n",
      "_equity_curve                             ...\n",
      "_trades                      Size  EntryBa...\n",
      "dtype: object\n"
     ]
    },
    {
     "name": "stderr",
     "output_type": "stream",
     "text": [
      "BokehDeprecationWarning: Passing lists of formats for DatetimeTickFormatter scales was deprecated in Bokeh 3.0. Configure a single string format for each scale\n",
      "C:\\Users\\B51063\\AppData\\Roaming\\Python\\Python311\\site-packages\\backtesting\\_plotting.py:250: UserWarning: DatetimeFormatter scales now only accept a single format. Using the first provided: '%d %b'\n",
      "  formatter=DatetimeTickFormatter(days=['%d %b', '%a %d'],\n",
      "BokehDeprecationWarning: Passing lists of formats for DatetimeTickFormatter scales was deprecated in Bokeh 3.0. Configure a single string format for each scale\n",
      "C:\\Users\\B51063\\AppData\\Roaming\\Python\\Python311\\site-packages\\backtesting\\_plotting.py:250: UserWarning: DatetimeFormatter scales now only accept a single format. Using the first provided: '%m/%Y'\n",
      "  formatter=DatetimeTickFormatter(days=['%d %b', '%a %d'],\n",
      "C:\\Users\\B51063\\AppData\\Roaming\\Python\\Python311\\site-packages\\backtesting\\_plotting.py:659: UserWarning: found multiple competing values for 'toolbar.active_drag' property; using the latest value\n",
      "  fig = gridplot(\n",
      "C:\\Users\\B51063\\AppData\\Roaming\\Python\\Python311\\site-packages\\backtesting\\_plotting.py:659: UserWarning: found multiple competing values for 'toolbar.active_scroll' property; using the latest value\n",
      "  fig = gridplot(\n"
     ]
    },
    {
     "data": {
      "text/html": [
       "<div style=\"display: table;\"><div style=\"display: table-row;\"><div style=\"display: table-cell;\"><b title=\"bokeh.models.plots.GridPlot\">GridPlot</b>(</div><div style=\"display: table-cell;\">id&nbsp;=&nbsp;'p1977', <span id=\"p2008\" style=\"cursor: pointer;\">&hellip;)</span></div></div><div class=\"p2007\" style=\"display: none;\"><div style=\"display: table-cell;\"></div><div style=\"display: table-cell;\">align&nbsp;=&nbsp;'auto',</div></div><div class=\"p2007\" style=\"display: none;\"><div style=\"display: table-cell;\"></div><div style=\"display: table-cell;\">aspect_ratio&nbsp;=&nbsp;None,</div></div><div class=\"p2007\" style=\"display: none;\"><div style=\"display: table-cell;\"></div><div style=\"display: table-cell;\">children&nbsp;=&nbsp;[(figure(id='p1698', ...), 0, 0), (figure(id='p1795', ...), 1, 0), (figure(id='p1654', ...), 2, 0), (figure(id='p1850', ...), 3, 0)],</div></div><div class=\"p2007\" style=\"display: none;\"><div style=\"display: table-cell;\"></div><div style=\"display: table-cell;\">cols&nbsp;=&nbsp;None,</div></div><div class=\"p2007\" style=\"display: none;\"><div style=\"display: table-cell;\"></div><div style=\"display: table-cell;\">context_menu&nbsp;=&nbsp;None,</div></div><div class=\"p2007\" style=\"display: none;\"><div style=\"display: table-cell;\"></div><div style=\"display: table-cell;\">css_classes&nbsp;=&nbsp;[],</div></div><div class=\"p2007\" style=\"display: none;\"><div style=\"display: table-cell;\"></div><div style=\"display: table-cell;\">disabled&nbsp;=&nbsp;False,</div></div><div class=\"p2007\" style=\"display: none;\"><div style=\"display: table-cell;\"></div><div style=\"display: table-cell;\">flow_mode&nbsp;=&nbsp;'block',</div></div><div class=\"p2007\" style=\"display: none;\"><div style=\"display: table-cell;\"></div><div style=\"display: table-cell;\">height&nbsp;=&nbsp;None,</div></div><div class=\"p2007\" style=\"display: none;\"><div style=\"display: table-cell;\"></div><div style=\"display: table-cell;\">height_policy&nbsp;=&nbsp;'auto',</div></div><div class=\"p2007\" style=\"display: none;\"><div style=\"display: table-cell;\"></div><div style=\"display: table-cell;\">js_event_callbacks&nbsp;=&nbsp;{},</div></div><div class=\"p2007\" style=\"display: none;\"><div style=\"display: table-cell;\"></div><div style=\"display: table-cell;\">js_property_callbacks&nbsp;=&nbsp;{},</div></div><div class=\"p2007\" style=\"display: none;\"><div style=\"display: table-cell;\"></div><div style=\"display: table-cell;\">margin&nbsp;=&nbsp;None,</div></div><div class=\"p2007\" style=\"display: none;\"><div style=\"display: table-cell;\"></div><div style=\"display: table-cell;\">max_height&nbsp;=&nbsp;None,</div></div><div class=\"p2007\" style=\"display: none;\"><div style=\"display: table-cell;\"></div><div style=\"display: table-cell;\">max_width&nbsp;=&nbsp;None,</div></div><div class=\"p2007\" style=\"display: none;\"><div style=\"display: table-cell;\"></div><div style=\"display: table-cell;\">min_height&nbsp;=&nbsp;None,</div></div><div class=\"p2007\" style=\"display: none;\"><div style=\"display: table-cell;\"></div><div style=\"display: table-cell;\">min_width&nbsp;=&nbsp;None,</div></div><div class=\"p2007\" style=\"display: none;\"><div style=\"display: table-cell;\"></div><div style=\"display: table-cell;\">name&nbsp;=&nbsp;None,</div></div><div class=\"p2007\" style=\"display: none;\"><div style=\"display: table-cell;\"></div><div style=\"display: table-cell;\">resizable&nbsp;=&nbsp;False,</div></div><div class=\"p2007\" style=\"display: none;\"><div style=\"display: table-cell;\"></div><div style=\"display: table-cell;\">rows&nbsp;=&nbsp;None,</div></div><div class=\"p2007\" style=\"display: none;\"><div style=\"display: table-cell;\"></div><div style=\"display: table-cell;\">sizing_mode&nbsp;=&nbsp;'stretch_width',</div></div><div class=\"p2007\" style=\"display: none;\"><div style=\"display: table-cell;\"></div><div style=\"display: table-cell;\">spacing&nbsp;=&nbsp;0,</div></div><div class=\"p2007\" style=\"display: none;\"><div style=\"display: table-cell;\"></div><div style=\"display: table-cell;\">styles&nbsp;=&nbsp;{},</div></div><div class=\"p2007\" style=\"display: none;\"><div style=\"display: table-cell;\"></div><div style=\"display: table-cell;\">stylesheets&nbsp;=&nbsp;[],</div></div><div class=\"p2007\" style=\"display: none;\"><div style=\"display: table-cell;\"></div><div style=\"display: table-cell;\">subscribed_events&nbsp;=&nbsp;PropertyValueSet(),</div></div><div class=\"p2007\" style=\"display: none;\"><div style=\"display: table-cell;\"></div><div style=\"display: table-cell;\">syncable&nbsp;=&nbsp;True,</div></div><div class=\"p2007\" style=\"display: none;\"><div style=\"display: table-cell;\"></div><div style=\"display: table-cell;\">tags&nbsp;=&nbsp;[],</div></div><div class=\"p2007\" style=\"display: none;\"><div style=\"display: table-cell;\"></div><div style=\"display: table-cell;\">toolbar&nbsp;=&nbsp;Toolbar(id='p1976', ...),</div></div><div class=\"p2007\" style=\"display: none;\"><div style=\"display: table-cell;\"></div><div style=\"display: table-cell;\">toolbar_location&nbsp;=&nbsp;'right',</div></div><div class=\"p2007\" style=\"display: none;\"><div style=\"display: table-cell;\"></div><div style=\"display: table-cell;\">visible&nbsp;=&nbsp;True,</div></div><div class=\"p2007\" style=\"display: none;\"><div style=\"display: table-cell;\"></div><div style=\"display: table-cell;\">width&nbsp;=&nbsp;None,</div></div><div class=\"p2007\" style=\"display: none;\"><div style=\"display: table-cell;\"></div><div style=\"display: table-cell;\">width_policy&nbsp;=&nbsp;'auto')</div></div></div>\n",
       "<script>\n",
       "(function() {\n",
       "  let expanded = false;\n",
       "  const ellipsis = document.getElementById(\"p2008\");\n",
       "  ellipsis.addEventListener(\"click\", function() {\n",
       "    const rows = document.getElementsByClassName(\"p2007\");\n",
       "    for (let i = 0; i < rows.length; i++) {\n",
       "      const el = rows[i];\n",
       "      el.style.display = expanded ? \"none\" : \"table-row\";\n",
       "    }\n",
       "    ellipsis.innerHTML = expanded ? \"&hellip;)\" : \"&lsaquo;&lsaquo;&lsaquo;\";\n",
       "    expanded = !expanded;\n",
       "  });\n",
       "})();\n",
       "</script>\n"
      ],
      "text/plain": [
       "GridPlot(id='p1977', ...)"
      ]
     },
     "execution_count": 19,
     "metadata": {},
     "output_type": "execute_result"
    }
   ],
   "source": [
    "# Parâmetros da estratégia\n",
    "short_period = 10\n",
    "long_period = 50\n",
    "\n",
    "# Executando o backtest\n",
    "bt = Backtest(tsla_data, MA_crossover_bt, cash=10_000, commission=0)\n",
    "\n",
    "# Executa o backtest\n",
    "stats = bt.run()\n",
    "\n",
    "# Exibe os resultados\n",
    "print(stats)\n",
    "bt.plot()"
   ]
  }
 ],
 "metadata": {
  "kernelspec": {
   "display_name": "base",
   "language": "python",
   "name": "python3"
  },
  "language_info": {
   "codemirror_mode": {
    "name": "ipython",
    "version": 3
   },
   "file_extension": ".py",
   "mimetype": "text/x-python",
   "name": "python",
   "nbconvert_exporter": "python",
   "pygments_lexer": "ipython3",
   "version": "3.11.7"
  }
 },
 "nbformat": 4,
 "nbformat_minor": 2
}
