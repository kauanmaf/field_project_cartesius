{
 "cells": [
  {
   "cell_type": "code",
   "execution_count": 120,
   "metadata": {},
   "outputs": [],
   "source": [
    "from sklearn.ensemble import GradientBoostingClassifier\n",
    "from sklearn.neural_network import MLPClassifier\n",
    "from sklearn.ensemble import RandomForestClassifier\n",
    "from sklearn.model_selection import train_test_split\n",
    "from sklearn.metrics import classification_report\n",
    "import pandas as pd\n",
    "import numpy as np\n",
    "from indicadores import *\n",
    "import labeling as lb"
   ]
  },
  {
   "cell_type": "code",
   "execution_count": 132,
   "metadata": {},
   "outputs": [],
   "source": [
    "def prepare_data(olhc):\n",
    "    # Calculando os indicadores e normalizando-os\n",
    "    data = agg_indicators(olhc)\n",
    "    data = normalize_indicators(data)\n",
    "\n",
    "    # Rotulando os dados\n",
    "    y = np.array(lb.labelData(olhc, 0.1)).ravel()\n",
    "\n",
    "    # Eliminando as linhas com NaN\n",
    "    data[\"y\"] = y\n",
    "    data = data.dropna()\n",
    "\n",
    "    # Convertendo para numpy arrays, caso ainda não estejam\n",
    "    X = np.array(data)[:, :-1]\n",
    "    y = np.array(data)[:, -1]\n",
    "\n",
    "    # # Divide os dados em conjuntos de treinamento e teste\n",
    "    X_train, X_test, y_train, y_test = train_test_split(X, y, test_size=0.2, random_state=42)\n",
    "\n",
    "    return X_train, X_test, y_train, y_test"
   ]
  },
  {
   "cell_type": "markdown",
   "metadata": {},
   "source": [
    "## Fazendo a Rede Neural"
   ]
  },
  {
   "cell_type": "code",
   "execution_count": 136,
   "metadata": {},
   "outputs": [],
   "source": [
    "def mlp(olhc, hidden_layers=(100, 100, 100), activation='logistic', \n",
    "        solver='adam', max_iter=500, random_state=42):\n",
    "    \"\"\"\n",
    "    Treina um modelo de rede neural MLP e retorna as previsões e o relatório de classificação.\n",
    "\n",
    "    Parâmetros:\n",
    "    - data: DataFrame contendo os dados de entrada.\n",
    "    - hidden_layers: Tupla com o tamanho das camadas ocultas.\n",
    "    - activation: Função de ativação a ser usada.\n",
    "    - solver: Algoritmo de otimização a ser usado.\n",
    "    - max_iter: Número máximo de iterações.\n",
    "    - random_state: Semente para a geração de números aleatórios.\n",
    "\n",
    "    Retorna:\n",
    "    - y_pred_mlp: Previsões das classes no conjunto de teste.\n",
    "    - report: Relatório de classificação.\n",
    "    \"\"\"\n",
    "    # Preparando os dados\n",
    "    X_train, X_test, y_train, y_test = prepare_data(olhc)\n",
    "\n",
    "    # Definindo a rede neural com múltiplas camadas\n",
    "    mlp = MLPClassifier(hidden_layer_sizes = hidden_layers,\n",
    "                        activation = activation,\n",
    "                        solver = solver,\n",
    "                        max_iter = max_iter,\n",
    "                        random_state = random_state)\n",
    "\n",
    "    # Treina a rede neural\n",
    "    mlp.fit(X_train, y_train)\n",
    "\n",
    "    # Faz previsões de classe\n",
    "    y_pred_mlp = mlp.predict(X_test)\n",
    "\n",
    "    # Exibe o relatório de classificação para o MLP\n",
    "    report = classification_report(y_test, y_pred_mlp)\n",
    "    print(report)\n",
    "\n",
    "    return y_pred_mlp"
   ]
  },
  {
   "cell_type": "code",
   "execution_count": 138,
   "metadata": {},
   "outputs": [
    {
     "name": "stderr",
     "output_type": "stream",
     "text": [
      "c:\\Users\\pedro\\AppData\\Local\\Programs\\Python\\Python310\\lib\\site-packages\\ta\\trend.py:1030: FutureWarning: Series.__setitem__ treating keys as positions is deprecated. In a future version, integer keys will always be treated as labels (consistent with DataFrame behavior). To set a value by position, use `ser.iloc[pos] = value`\n",
      "  self._psar[i] = high2\n"
     ]
    },
    {
     "name": "stdout",
     "output_type": "stream",
     "text": [
      "              precision    recall  f1-score   support\n",
      "\n",
      "        -1.0       0.00      0.00      0.00         5\n",
      "         0.0       0.48      0.32      0.38       328\n",
      "         1.0       0.53      0.69      0.60       365\n",
      "\n",
      "    accuracy                           0.51       698\n",
      "   macro avg       0.33      0.34      0.33       698\n",
      "weighted avg       0.50      0.51      0.49       698\n",
      "\n"
     ]
    },
    {
     "name": "stderr",
     "output_type": "stream",
     "text": [
      "c:\\Users\\pedro\\AppData\\Local\\Programs\\Python\\Python310\\lib\\site-packages\\sklearn\\metrics\\_classification.py:1471: UndefinedMetricWarning: Precision and F-score are ill-defined and being set to 0.0 in labels with no predicted samples. Use `zero_division` parameter to control this behavior.\n",
      "  _warn_prf(average, modifier, msg_start, len(result))\n",
      "c:\\Users\\pedro\\AppData\\Local\\Programs\\Python\\Python310\\lib\\site-packages\\sklearn\\metrics\\_classification.py:1471: UndefinedMetricWarning: Precision and F-score are ill-defined and being set to 0.0 in labels with no predicted samples. Use `zero_division` parameter to control this behavior.\n",
      "  _warn_prf(average, modifier, msg_start, len(result))\n",
      "c:\\Users\\pedro\\AppData\\Local\\Programs\\Python\\Python310\\lib\\site-packages\\sklearn\\metrics\\_classification.py:1471: UndefinedMetricWarning: Precision and F-score are ill-defined and being set to 0.0 in labels with no predicted samples. Use `zero_division` parameter to control this behavior.\n",
      "  _warn_prf(average, modifier, msg_start, len(result))\n"
     ]
    }
   ],
   "source": [
    "y_pred = mlp(tsla_data)"
   ]
  },
  {
   "cell_type": "markdown",
   "metadata": {},
   "source": [
    "## Fazendo o modelo de Random Forest"
   ]
  },
  {
   "cell_type": "code",
   "execution_count": 140,
   "metadata": {},
   "outputs": [],
   "source": [
    "def random_forest(olhc, n_estimators=100, max_depth=None, random_state=42):\n",
    "    \"\"\"\n",
    "    Treina um modelo de Random Forest e retorna as previsões e o relatório de classificação.\n",
    "\n",
    "    Parâmetros:\n",
    "    - data: DataFrame com as features e a variável alvo.\n",
    "    - target_column: Nome da coluna alvo no DataFrame.\n",
    "    - n_estimators: Número de árvores na floresta.\n",
    "    - max_depth: Profundidade máxima das árvores (None para ilimitado).\n",
    "    - random_state: Semente para a geração de números aleatórios.\n",
    "\n",
    "    Retorna:\n",
    "    - y_pred_rf: Previsões das classes no conjunto de teste.\n",
    "    - report: Relatório de classificação.\n",
    "    \"\"\"\n",
    "    # Preparando os dados\n",
    "    X_train, X_test, y_train, y_test = prepare_data(olhc)\n",
    "\n",
    "    # Definindo o modelo Random Forest\n",
    "    rf = RandomForestClassifier(n_estimators=n_estimators, max_depth=max_depth, \n",
    "                                 random_state=random_state)\n",
    "\n",
    "    # Treina o modelo Random Forest\n",
    "    rf.fit(X_train, y_train)\n",
    "\n",
    "    # Faz previsões de classe\n",
    "    y_pred_rf = rf.predict(X_test)\n",
    "\n",
    "    # Exibe o relatório de classificação para o Random Forest\n",
    "    report = classification_report(y_test, y_pred_rf)\n",
    "    print(report)\n",
    "\n",
    "    return y_pred_rf"
   ]
  },
  {
   "cell_type": "code",
   "execution_count": 141,
   "metadata": {},
   "outputs": [
    {
     "name": "stderr",
     "output_type": "stream",
     "text": [
      "c:\\Users\\pedro\\AppData\\Local\\Programs\\Python\\Python310\\lib\\site-packages\\ta\\trend.py:1030: FutureWarning: Series.__setitem__ treating keys as positions is deprecated. In a future version, integer keys will always be treated as labels (consistent with DataFrame behavior). To set a value by position, use `ser.iloc[pos] = value`\n",
      "  self._psar[i] = high2\n"
     ]
    },
    {
     "name": "stdout",
     "output_type": "stream",
     "text": [
      "              precision    recall  f1-score   support\n",
      "\n",
      "        -1.0       0.00      0.00      0.00         5\n",
      "         0.0       0.49      0.57      0.53       328\n",
      "         1.0       0.54      0.48      0.51       365\n",
      "\n",
      "    accuracy                           0.52       698\n",
      "   macro avg       0.35      0.35      0.34       698\n",
      "weighted avg       0.52      0.52      0.51       698\n",
      "\n"
     ]
    },
    {
     "name": "stderr",
     "output_type": "stream",
     "text": [
      "c:\\Users\\pedro\\AppData\\Local\\Programs\\Python\\Python310\\lib\\site-packages\\sklearn\\metrics\\_classification.py:1471: UndefinedMetricWarning: Precision and F-score are ill-defined and being set to 0.0 in labels with no predicted samples. Use `zero_division` parameter to control this behavior.\n",
      "  _warn_prf(average, modifier, msg_start, len(result))\n",
      "c:\\Users\\pedro\\AppData\\Local\\Programs\\Python\\Python310\\lib\\site-packages\\sklearn\\metrics\\_classification.py:1471: UndefinedMetricWarning: Precision and F-score are ill-defined and being set to 0.0 in labels with no predicted samples. Use `zero_division` parameter to control this behavior.\n",
      "  _warn_prf(average, modifier, msg_start, len(result))\n",
      "c:\\Users\\pedro\\AppData\\Local\\Programs\\Python\\Python310\\lib\\site-packages\\sklearn\\metrics\\_classification.py:1471: UndefinedMetricWarning: Precision and F-score are ill-defined and being set to 0.0 in labels with no predicted samples. Use `zero_division` parameter to control this behavior.\n",
      "  _warn_prf(average, modifier, msg_start, len(result))\n"
     ]
    }
   ],
   "source": [
    "y_pred = random_forest(tsla_data)"
   ]
  },
  {
   "cell_type": "markdown",
   "metadata": {},
   "source": [
    "## Fazendo o Modelo Gradient Boosting"
   ]
  },
  {
   "cell_type": "code",
   "execution_count": 142,
   "metadata": {},
   "outputs": [],
   "source": [
    "def gradient_boosting(olhc, random_state=42):\n",
    "    \"\"\"\n",
    "    Treina um modelo de Gradient Boosting e retorna as previsões e o relatório de classificação.\n",
    "\n",
    "    Parâmetros:\n",
    "    - data: DataFrame com as features e a variável alvo.\n",
    "    - target_column: Nome da coluna alvo no DataFrame.\n",
    "    - random_state: Semente para a geração de números aleatórios.\n",
    "\n",
    "    Retorna:\n",
    "    - y_pred_gb: Previsões das classes no conjunto de teste.\n",
    "    - report: Relatório de classificação.\n",
    "    \"\"\"\n",
    "    # Preparando os dados\n",
    "    X_train, X_test, y_train, y_test = prepare_data(olhc)\n",
    "\n",
    "    # Definindo o modelo Gradient Boosting\n",
    "    gb_model = GradientBoostingClassifier(random_state=random_state)\n",
    "\n",
    "    # Treina o modelo Gradient Boosting\n",
    "    gb_model.fit(X_train, y_train)\n",
    "\n",
    "    # Faz previsões de classe\n",
    "    y_pred_gb = gb_model.predict(X_test)\n",
    "\n",
    "    # Exibe o relatório de classificação para o Gradient Boosting\n",
    "    report = classification_report(y_test, y_pred_gb)\n",
    "    print(report)\n",
    "\n",
    "    return y_pred_gb"
   ]
  },
  {
   "cell_type": "code",
   "execution_count": 143,
   "metadata": {},
   "outputs": [
    {
     "name": "stderr",
     "output_type": "stream",
     "text": [
      "c:\\Users\\pedro\\AppData\\Local\\Programs\\Python\\Python310\\lib\\site-packages\\ta\\trend.py:1030: FutureWarning: Series.__setitem__ treating keys as positions is deprecated. In a future version, integer keys will always be treated as labels (consistent with DataFrame behavior). To set a value by position, use `ser.iloc[pos] = value`\n",
      "  self._psar[i] = high2\n"
     ]
    },
    {
     "name": "stdout",
     "output_type": "stream",
     "text": [
      "              precision    recall  f1-score   support\n",
      "\n",
      "        -1.0       0.00      0.00      0.00         5\n",
      "         0.0       0.48      0.54      0.51       328\n",
      "         1.0       0.53      0.48      0.51       365\n",
      "\n",
      "    accuracy                           0.50       698\n",
      "   macro avg       0.34      0.34      0.34       698\n",
      "weighted avg       0.51      0.50      0.50       698\n",
      "\n"
     ]
    }
   ],
   "source": [
    "y_pred = gradient_boosting(tsla_data)"
   ]
  },
  {
   "cell_type": "code",
   "execution_count": 56,
   "metadata": {},
   "outputs": [
    {
     "name": "stdout",
     "output_type": "stream",
     "text": [
      "                  precision    recall  f1-score   support\n",
      "\n",
      "Desfazer Posição       0.01      0.78      0.02         9\n",
      "          Compra       0.00      0.00      0.00       357\n",
      "           Short       0.51      0.12      0.19       347\n",
      "\n",
      "        accuracy                           0.07       713\n",
      "       macro avg       0.17      0.30      0.07       713\n",
      "    weighted avg       0.25      0.07      0.09       713\n",
      "\n"
     ]
    },
    {
     "name": "stderr",
     "output_type": "stream",
     "text": [
      "c:\\Users\\Léo\\AppData\\Local\\Programs\\Python\\Python312\\Lib\\site-packages\\sklearn\\metrics\\_classification.py:1531: UndefinedMetricWarning: Precision is ill-defined and being set to 0.0 in labels with no predicted samples. Use `zero_division` parameter to control this behavior.\n",
      "  _warn_prf(average, modifier, f\"{metric.capitalize()} is\", len(result))\n",
      "c:\\Users\\Léo\\AppData\\Local\\Programs\\Python\\Python312\\Lib\\site-packages\\sklearn\\metrics\\_classification.py:1531: UndefinedMetricWarning: Precision is ill-defined and being set to 0.0 in labels with no predicted samples. Use `zero_division` parameter to control this behavior.\n",
      "  _warn_prf(average, modifier, f\"{metric.capitalize()} is\", len(result))\n",
      "c:\\Users\\Léo\\AppData\\Local\\Programs\\Python\\Python312\\Lib\\site-packages\\sklearn\\metrics\\_classification.py:1531: UndefinedMetricWarning: Precision is ill-defined and being set to 0.0 in labels with no predicted samples. Use `zero_division` parameter to control this behavior.\n",
      "  _warn_prf(average, modifier, f\"{metric.capitalize()} is\", len(result))\n"
     ]
    }
   ],
   "source": [
    "# # Faz previsões de probabilidade\n",
    "# y_pred_probs = rf.predict_proba(X_test)\n",
    "\n",
    "# # Identifica a classe com maior probabilidade\n",
    "# y_pred_indices = np.argmax(y_pred_probs, axis=1)\n",
    "\n",
    "# # Mapeia os índices para as classes de interesse\n",
    "# class_mapping = {0: 0, 1: 1, 2: -1}  # ajuste conforme necessário para sua classificação\n",
    "# y_pred = np.vectorize(class_mapping.get)(y_pred_indices)\n",
    "\n",
    "# # Avalia o modelo\n",
    "# print(classification_report(y_test, y_pred, target_names=[\"Desfazer Posição\", \"Compra\", \"Short\"]))"
   ]
  }
 ],
 "metadata": {
  "kernelspec": {
   "display_name": "Python 3",
   "language": "python",
   "name": "python3"
  },
  "language_info": {
   "codemirror_mode": {
    "name": "ipython",
    "version": 3
   },
   "file_extension": ".py",
   "mimetype": "text/x-python",
   "name": "python",
   "nbconvert_exporter": "python",
   "pygments_lexer": "ipython3",
   "version": "3.10.10"
  }
 },
 "nbformat": 4,
 "nbformat_minor": 2
}
