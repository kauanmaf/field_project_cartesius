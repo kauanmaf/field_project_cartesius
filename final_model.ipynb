{
 "cells": [
  {
   "cell_type": "code",
   "execution_count": 25,
   "metadata": {},
   "outputs": [],
   "source": [
    "from sklearn.neural_network import MLPClassifier\n",
    "from sklearn.model_selection import train_test_split\n",
    "from sklearn.metrics import classification_report\n",
    "import pandas as pd\n",
    "import numpy as np\n",
    "from classic_patterns import ml_tsla_data\n",
    "from labeling import label_tsla_data"
   ]
  },
  {
   "cell_type": "markdown",
   "metadata": {},
   "source": [
    "## Juntando os dados\n",
    "Pegando os dados"
   ]
  },
  {
   "cell_type": "code",
   "execution_count": 26,
   "metadata": {},
   "outputs": [],
   "source": [
    "ml_tsla_data = np.array(ml_tsla_data)  \n",
    "label_tsla_data = np.array(label_tsla_data).ravel()  \n",
    "\n",
    "# Divide os dados em conjuntos de treinamento e teste\n",
    "X_train, X_test, y_train, y_test = train_test_split(ml_tsla_data, label_tsla_data, test_size=0.2, random_state=42)"
   ]
  },
  {
   "cell_type": "markdown",
   "metadata": {},
   "source": [
    "## Fazendo a rede neural"
   ]
  },
  {
   "cell_type": "code",
   "execution_count": 27,
   "metadata": {},
   "outputs": [],
   "source": [
    "# Define the neural network with multiple layers\n",
    "# Adjust the hidden_layer_sizes parameter for more layers and units\n",
    "mlp = MLPClassifier(hidden_layer_sizes=(100, 100, 100), activation='logistic', solver='adam', max_iter=500, random_state=42)\n",
    "\n",
    "# Train the neural network\n",
    "mlp.fit(X_train, y_train)\n",
    "\n",
    "# Make predictions\n",
    "y_pred_probs = mlp.predict_proba(X_test)\n"
   ]
  },
  {
   "cell_type": "code",
   "execution_count": 28,
   "metadata": {},
   "outputs": [
    {
     "name": "stdout",
     "output_type": "stream",
     "text": [
      "(713, 3)\n",
      "[[0.00664148 0.47996191 0.51339661]\n",
      " [0.00685358 0.48211    0.51103642]\n",
      " [0.00686925 0.4822323  0.51089845]\n",
      " ...\n",
      " [0.00686925 0.4822323  0.51089845]\n",
      " [0.00668008 0.48050195 0.51281797]\n",
      " [0.00669415 0.48061367 0.51269218]]\n"
     ]
    }
   ],
   "source": [
    "print(y_pred_probs.shape)\n",
    "print(y_pred_probs)\n",
    "# print(classification_report(y_test, y_pred_probs, target_names=[\"Desfazer Posição\", \"Compra\", \"Short\"]))\n",
    "\n"
   ]
  },
  {
   "cell_type": "code",
   "execution_count": 29,
   "metadata": {},
   "outputs": [
    {
     "name": "stdout",
     "output_type": "stream",
     "text": [
      "                  precision    recall  f1-score   support\n",
      "\n",
      "Desfazer Posição       0.01      1.00      0.02         9\n",
      "          Compra       0.00      0.00      0.00       357\n",
      "           Short       0.00      0.00      0.00       347\n",
      "\n",
      "        accuracy                           0.01       713\n",
      "       macro avg       0.00      0.33      0.01       713\n",
      "    weighted avg       0.00      0.01      0.00       713\n",
      "\n"
     ]
    },
    {
     "name": "stderr",
     "output_type": "stream",
     "text": [
      "C:\\Users\\kauan\\AppData\\Local\\Packages\\PythonSoftwareFoundation.Python.3.11_qbz5n2kfra8p0\\LocalCache\\local-packages\\Python311\\site-packages\\sklearn\\metrics\\_classification.py:1531: UndefinedMetricWarning: Precision is ill-defined and being set to 0.0 in labels with no predicted samples. Use `zero_division` parameter to control this behavior.\n",
      "  _warn_prf(average, modifier, f\"{metric.capitalize()} is\", len(result))\n",
      "C:\\Users\\kauan\\AppData\\Local\\Packages\\PythonSoftwareFoundation.Python.3.11_qbz5n2kfra8p0\\LocalCache\\local-packages\\Python311\\site-packages\\sklearn\\metrics\\_classification.py:1531: UndefinedMetricWarning: Precision is ill-defined and being set to 0.0 in labels with no predicted samples. Use `zero_division` parameter to control this behavior.\n",
      "  _warn_prf(average, modifier, f\"{metric.capitalize()} is\", len(result))\n",
      "C:\\Users\\kauan\\AppData\\Local\\Packages\\PythonSoftwareFoundation.Python.3.11_qbz5n2kfra8p0\\LocalCache\\local-packages\\Python311\\site-packages\\sklearn\\metrics\\_classification.py:1531: UndefinedMetricWarning: Precision is ill-defined and being set to 0.0 in labels with no predicted samples. Use `zero_division` parameter to control this behavior.\n",
      "  _warn_prf(average, modifier, f\"{metric.capitalize()} is\", len(result))\n"
     ]
    }
   ],
   "source": [
    "# Previsão das probabilidades\n",
    "y_pred_probs = mlp.predict_proba(X_test)\n",
    "\n",
    "# Mapeia as classes para 0, 1 e -1\n",
    "# Considerando que a classe 0 corresponde a 'Desfazer Posição', 1 a 'Compra' e 2 a 'Short'\n",
    "# Vamos usar np.argmax para encontrar a classe com maior probabilidade\n",
    "y_pred_indices = np.argmax(y_pred_probs, axis=1)\n",
    "\n",
    "# Mapeando os índices para -1, 0 e 1\n",
    "# Supondo que:\n",
    "# Classe 0 -> 0 (Desfazer Posição)\n",
    "# Classe 1 -> 1 (Compra)\n",
    "# Classe 2 -> -1 (Short)\n",
    "class_mapping = {0: 0, 1: 1, 2: -1}\n",
    "y_pred = np.vectorize(class_mapping.get)(y_pred_indices)\n",
    "\n",
    "# Avalia o modelo\n",
    "print(classification_report(y_test, y_pred, target_names=[\"Desfazer Posição\", \"Compra\", \"Short\"]))"
   ]
  }
 ],
 "metadata": {
  "kernelspec": {
   "display_name": "Python 3",
   "language": "python",
   "name": "python3"
  },
  "language_info": {
   "codemirror_mode": {
    "name": "ipython",
    "version": 3
   },
   "file_extension": ".py",
   "mimetype": "text/x-python",
   "name": "python",
   "nbconvert_exporter": "python",
   "pygments_lexer": "ipython3",
   "version": "3.11.9"
  }
 },
 "nbformat": 4,
 "nbformat_minor": 2
}
