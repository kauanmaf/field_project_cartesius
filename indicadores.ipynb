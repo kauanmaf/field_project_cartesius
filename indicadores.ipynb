{
 "cells": [
  {
   "cell_type": "markdown",
   "metadata": {},
   "source": [
    "# Indicadores\n",
    "Notebook destinado a codar uma série de indicadores"
   ]
  },
  {
   "cell_type": "markdown",
   "metadata": {},
   "source": [
    "## Average Directional Index\n",
    "É um indicador que indica a força da trend\n",
    "- Abaixo de 20: Muito provável que não exista trend\n",
    "- Entre 20 e 50: Pode existir uma trend\n",
    "- Acima de 50: Muito provável que exista uma forte trend\n",
    "\n",
    "Esse indicador não determina um sinal, apenas diz se existe ou não uma trend"
   ]
  },
  {
   "cell_type": "code",
   "execution_count": 42,
   "metadata": {},
   "outputs": [],
   "source": [
    "from tradingUtils import *\n",
    "import numpy as numpy\n",
    "import pandas as pd\n",
    "import ta"
   ]
  },
  {
   "cell_type": "code",
   "execution_count": 43,
   "metadata": {},
   "outputs": [],
   "source": [
    "def ADX(data, adx_period=14):\n",
    "    close = data['Adj Close'].values\n",
    "    open_ = data['Open'].values\n",
    "    high = data['High'].values\n",
    "    low = data['Low'].values\n",
    "    adx = ta.trend.ADXIndicator(high=data['High'], low=data['Low'], close=data['Adj Close'], window=adx_period).adx()\n",
    "    return adx "
   ]
  },
  {
   "cell_type": "code",
   "execution_count": 44,
   "metadata": {},
   "outputs": [],
   "source": [
    "def parabolic_sar(data, acceleration=0.02, max_acceleration=0.2):\n",
    "    high = data['High'].values\n",
    "    low = data['Low'].values\n",
    "    close = data['Adj Close'].values\n",
    "\n",
    "    sar = ta.trend.PSARIndicator(high=high, low=low, close=close, step=acceleration, max_step=max_acceleration).psar()\n",
    "    \n",
    "    return sar\n"
   ]
  },
  {
   "cell_type": "code",
   "execution_count": 45,
   "metadata": {},
   "outputs": [],
   "source": [
    "def parabolic_sar(data, acceleration=0.02, max_acceleration=0.2):\n",
    "    high = data['High'].values\n",
    "    low = data['Low'].values\n",
    "\n",
    "    # Initial settings\n",
    "    sar = []\n",
    "    af = acceleration\n",
    "    ep = high[0]  # Initial Extreme Point (assumed high for the first period)\n",
    "    trend = 1  # Assume starting with an uptrend\n",
    "\n",
    "    for i in range(len(data)):\n",
    "        if i == 0:\n",
    "            sar.append(low[i])  # Initial SAR value is the first low price\n",
    "            continue\n",
    "\n",
    "        prev_sar = sar[-1]  # Previous SAR value\n",
    "\n",
    "        if trend == 1:  # Uptrend\n",
    "            new_sar = prev_sar + af * (ep - prev_sar)\n",
    "            sar.append(min(new_sar, low[i-1], low[i]))  # Ensure SAR doesn't cross the lowest points\n",
    "            if high[i] > ep:\n",
    "                ep = high[i]  # Update extreme point\n",
    "                af = min(af + acceleration, max_acceleration)  # Increase AF\n",
    "            if low[i] < new_sar:  # Trend reversal condition\n",
    "                trend = -1  # Switch to downtrend\n",
    "                sar[-1] = ep  # On reversal, set SAR to the last extreme point\n",
    "                ep = low[i]  # Reset extreme point for the new trend\n",
    "                af = acceleration  # Reset AF\n",
    "\n",
    "        else:  # Downtrend\n",
    "            new_sar = prev_sar + af * (ep - prev_sar)\n",
    "            sar.append(max(new_sar, high[i-1], high[i]))  # Ensure SAR doesn't cross the highest points\n",
    "            if low[i] < ep:\n",
    "                ep = low[i]  # Update extreme point\n",
    "                af = min(af + acceleration, max_acceleration)  # Increase AF\n",
    "            if high[i] > new_sar:  # Trend reversal condition\n",
    "                trend = 1  # Switch to uptrend\n",
    "                sar[-1] = ep  # On reversal, set SAR to the last extreme point\n",
    "                ep = high[i]  # Reset extreme point for the new trend\n",
    "                af = acceleration  # Reset AF\n",
    "\n",
    "    return pd.Series(sar, index=data.index)\n"
   ]
  },
  {
   "cell_type": "code",
   "execution_count": 46,
   "metadata": {},
   "outputs": [],
   "source": [
    "def on_balance_volume(data):\n",
    "    close = data['Adj Close'].values\n",
    "    volume = data['Volume'].values\n",
    "    \n",
    "    obv = [0]  # Initial OBV starts at 0\n",
    "    \n",
    "    for i in range(1, len(close)):\n",
    "        if close[i] > close[i - 1]:\n",
    "            obv.append(obv[-1] + volume[i])  # Add volume if price went up\n",
    "        elif close[i] < close[i - 1]:\n",
    "            obv.append(obv[-1] - volume[i])  # Subtract volume if price went down\n",
    "        else:\n",
    "            obv.append(obv[-1])  # No change if price stayed the same\n",
    "\n",
    "    return pd.Series(obv, index=data.index)\n"
   ]
  },
  {
   "cell_type": "code",
   "execution_count": 47,
   "metadata": {},
   "outputs": [],
   "source": [
    "def average_true_range(data, atr_period=14):\n",
    "    high = data['High'].values\n",
    "    low = data['Low'].values\n",
    "    close = data['Adj Close'].values\n",
    "    \n",
    "    true_ranges = [0]  # Start with a true range of 0 for the first value\n",
    "\n",
    "    for i in range(1, len(close)):\n",
    "        tr1 = high[i] - low[i]  # High - Low\n",
    "        tr2 = abs(high[i] - close[i - 1])  # High - Previous Close\n",
    "        tr3 = abs(low[i] - close[i - 1])  # Low - Previous Close\n",
    "        true_range = max(tr1, tr2, tr3)  # The maximum of the three is the True Range\n",
    "        true_ranges.append(true_range)\n",
    "\n",
    "    # Calculating the ATR using a simple moving average of the true ranges\n",
    "    atr = pd.Series(true_ranges).rolling(window=atr_period).mean()\n",
    "    \n",
    "    return atr\n"
   ]
  },
  {
   "cell_type": "code",
   "execution_count": 48,
   "metadata": {},
   "outputs": [],
   "source": [
    "def commodity_channel_index(data, cci_period=20):\n",
    "    high = data['High'].values\n",
    "    low = data['Low'].values\n",
    "    close = data['Adj Close'].values\n",
    "    \n",
    "    # Calculate Typical Price\n",
    "    typical_price = (high + low + close) / 3\n",
    "\n",
    "    # Calculate moving average of typical price\n",
    "    tp_sma = pd.Series(typical_price).rolling(window=cci_period).mean()\n",
    "\n",
    "    # Calculate Mean Deviation\n",
    "    mean_deviation = pd.Series(typical_price - tp_sma).abs().rolling(window=cci_period).mean()\n",
    "\n",
    "    # Calculate CCI\n",
    "    cci = (typical_price - tp_sma) / (0.015 * mean_deviation)\n",
    "    \n",
    "    return pd.Series(cci, index=data.index)\n"
   ]
  },
  {
   "cell_type": "code",
   "execution_count": 49,
   "metadata": {},
   "outputs": [],
   "source": [
    "def bollinger_bands(data, bb_period=20, num_std=2):\n",
    "    close = data['Adj Close'].values\n",
    "    \n",
    "    # Calculate Simple Moving Average\n",
    "    sma = pd.Series(close).rolling(window=bb_period).mean()\n",
    "\n",
    "    # Calculate standard deviation\n",
    "    std = pd.Series(close).rolling(window=bb_period).std()\n",
    "\n",
    "    # Upper and Lower Bollinger Bands\n",
    "    upper_band = sma + (num_std * std)\n",
    "    lower_band = sma - (num_std * std)\n",
    "\n",
    "    return pd.DataFrame({\n",
    "        'SMA': sma,\n",
    "        'Upper Band': upper_band,\n",
    "        'Lower Band': lower_band\n",
    "    }, index=data.index)\n"
   ]
  },
  {
   "cell_type": "code",
   "execution_count": 50,
   "metadata": {},
   "outputs": [
    {
     "ename": "TypeError",
     "evalue": "run_signal_policy() got an unexpected keyword argument 'exec_back'",
     "output_type": "error",
     "traceback": [
      "\u001b[1;31m---------------------------------------------------------------------------\u001b[0m",
      "\u001b[1;31mTypeError\u001b[0m                                 Traceback (most recent call last)",
      "Cell \u001b[1;32mIn[50], line 2\u001b[0m\n\u001b[0;32m      1\u001b[0m data \u001b[38;5;241m=\u001b[39m tsla_data\u001b[38;5;241m.\u001b[39mcopy()\n\u001b[1;32m----> 2\u001b[0m \u001b[43mrun_signal_policy\u001b[49m\u001b[43m(\u001b[49m\u001b[43mdata\u001b[49m\u001b[43m,\u001b[49m\u001b[43m \u001b[49m\u001b[43mADX\u001b[49m\u001b[43m,\u001b[49m\u001b[43m \u001b[49m\u001b[38;5;124;43m\"\u001b[39;49m\u001b[38;5;124;43mADX\u001b[39;49m\u001b[38;5;124;43m\"\u001b[39;49m\u001b[43m,\u001b[49m\u001b[43m \u001b[49m\u001b[43mexec_back\u001b[49m\u001b[43m \u001b[49m\u001b[38;5;241;43m=\u001b[39;49m\u001b[43m \u001b[49m\u001b[38;5;28;43;01mFalse\u001b[39;49;00m\u001b[43m)\u001b[49m\n\u001b[0;32m      4\u001b[0m data\n",
      "\u001b[1;31mTypeError\u001b[0m: run_signal_policy() got an unexpected keyword argument 'exec_back'"
     ]
    }
   ],
   "source": [
    "data = tsla_data.copy()\n",
    "run_signal_policy(data, ADX, \"ADX\", exec_back = False)\n",
    "\n",
    "data"
   ]
  }
 ],
 "metadata": {
  "kernelspec": {
   "display_name": "Python 3",
   "language": "python",
   "name": "python3"
  },
  "language_info": {
   "codemirror_mode": {
    "name": "ipython",
    "version": 3
   },
   "file_extension": ".py",
   "mimetype": "text/x-python",
   "name": "python",
   "nbconvert_exporter": "python",
   "pygments_lexer": "ipython3",
   "version": "3.11.9"
  }
 },
 "nbformat": 4,
 "nbformat_minor": 2
}
