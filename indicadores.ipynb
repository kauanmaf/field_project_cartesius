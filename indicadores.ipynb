{
 "cells": [
  {
   "cell_type": "markdown",
   "metadata": {},
   "source": [
    "# Indicadores\n",
    "Notebook destinado a codar uma série de indicadores"
   ]
  },
  {
   "cell_type": "markdown",
   "metadata": {},
   "source": [
    "## Average Directional Index\n",
    "É um indicador que indica a força da trend\n",
    "- Abaixo de 20: Muito provável que não exista trend\n",
    "- Entre 20 e 50: Pode existir uma trend\n",
    "- Acima de 50: Muito provável que exista uma forte trend\n",
    "\n",
    "Esse indicador não determina um sinal, apenas diz se existe ou não uma trend"
   ]
  },
  {
   "cell_type": "code",
   "execution_count": 12,
   "metadata": {},
   "outputs": [
    {
     "name": "stdout",
     "output_type": "stream",
     "text": [
      "Requirement already satisfied: backtesting in c:\\users\\kauan\\appdata\\local\\packages\\pythonsoftwarefoundation.python.3.11_qbz5n2kfra8p0\\localcache\\local-packages\\python311\\site-packages (0.3.3)\n",
      "Requirement already satisfied: numpy>=1.17.0 in c:\\users\\kauan\\appdata\\local\\packages\\pythonsoftwarefoundation.python.3.11_qbz5n2kfra8p0\\localcache\\local-packages\\python311\\site-packages (from backtesting) (1.26.4)\n",
      "Requirement already satisfied: pandas!=0.25.0,>=0.25.0 in c:\\users\\kauan\\appdata\\local\\packages\\pythonsoftwarefoundation.python.3.11_qbz5n2kfra8p0\\localcache\\local-packages\\python311\\site-packages (from backtesting) (2.2.2)\n",
      "Requirement already satisfied: bokeh>=1.4.0 in c:\\users\\kauan\\appdata\\local\\packages\\pythonsoftwarefoundation.python.3.11_qbz5n2kfra8p0\\localcache\\local-packages\\python311\\site-packages (from backtesting) (3.5.2)\n",
      "Requirement already satisfied: Jinja2>=2.9 in c:\\users\\kauan\\appdata\\local\\packages\\pythonsoftwarefoundation.python.3.11_qbz5n2kfra8p0\\localcache\\local-packages\\python311\\site-packages (from bokeh>=1.4.0->backtesting) (3.1.4)\n",
      "Requirement already satisfied: contourpy>=1.2 in c:\\users\\kauan\\appdata\\local\\packages\\pythonsoftwarefoundation.python.3.11_qbz5n2kfra8p0\\localcache\\local-packages\\python311\\site-packages (from bokeh>=1.4.0->backtesting) (1.2.1)\n",
      "Requirement already satisfied: packaging>=16.8 in c:\\users\\kauan\\appdata\\local\\packages\\pythonsoftwarefoundation.python.3.11_qbz5n2kfra8p0\\localcache\\local-packages\\python311\\site-packages (from bokeh>=1.4.0->backtesting) (24.1)\n",
      "Requirement already satisfied: pillow>=7.1.0 in c:\\users\\kauan\\appdata\\local\\packages\\pythonsoftwarefoundation.python.3.11_qbz5n2kfra8p0\\localcache\\local-packages\\python311\\site-packages (from bokeh>=1.4.0->backtesting) (10.4.0)\n",
      "Requirement already satisfied: PyYAML>=3.10 in c:\\users\\kauan\\appdata\\local\\packages\\pythonsoftwarefoundation.python.3.11_qbz5n2kfra8p0\\localcache\\local-packages\\python311\\site-packages (from bokeh>=1.4.0->backtesting) (6.0.1)\n",
      "Requirement already satisfied: tornado>=6.2 in c:\\users\\kauan\\appdata\\local\\packages\\pythonsoftwarefoundation.python.3.11_qbz5n2kfra8p0\\localcache\\local-packages\\python311\\site-packages (from bokeh>=1.4.0->backtesting) (6.4.1)\n",
      "Requirement already satisfied: xyzservices>=2021.09.1 in c:\\users\\kauan\\appdata\\local\\packages\\pythonsoftwarefoundation.python.3.11_qbz5n2kfra8p0\\localcache\\local-packages\\python311\\site-packages (from bokeh>=1.4.0->backtesting) (2024.9.0)\n",
      "Requirement already satisfied: python-dateutil>=2.8.2 in c:\\users\\kauan\\appdata\\local\\packages\\pythonsoftwarefoundation.python.3.11_qbz5n2kfra8p0\\localcache\\local-packages\\python311\\site-packages (from pandas!=0.25.0,>=0.25.0->backtesting) (2.9.0.post0)\n",
      "Requirement already satisfied: pytz>=2020.1 in c:\\users\\kauan\\appdata\\local\\packages\\pythonsoftwarefoundation.python.3.11_qbz5n2kfra8p0\\localcache\\local-packages\\python311\\site-packages (from pandas!=0.25.0,>=0.25.0->backtesting) (2024.1)\n",
      "Requirement already satisfied: tzdata>=2022.7 in c:\\users\\kauan\\appdata\\local\\packages\\pythonsoftwarefoundation.python.3.11_qbz5n2kfra8p0\\localcache\\local-packages\\python311\\site-packages (from pandas!=0.25.0,>=0.25.0->backtesting) (2024.1)\n",
      "Requirement already satisfied: MarkupSafe>=2.0 in c:\\users\\kauan\\appdata\\local\\packages\\pythonsoftwarefoundation.python.3.11_qbz5n2kfra8p0\\localcache\\local-packages\\python311\\site-packages (from Jinja2>=2.9->bokeh>=1.4.0->backtesting) (2.1.5)\n",
      "Requirement already satisfied: six>=1.5 in c:\\users\\kauan\\appdata\\local\\packages\\pythonsoftwarefoundation.python.3.11_qbz5n2kfra8p0\\localcache\\local-packages\\python311\\site-packages (from python-dateutil>=2.8.2->pandas!=0.25.0,>=0.25.0->backtesting) (1.16.0)\n"
     ]
    }
   ],
   "source": [
    "!pip install backtesting"
   ]
  },
  {
   "cell_type": "code",
   "execution_count": 14,
   "metadata": {},
   "outputs": [
    {
     "ename": "ModuleNotFoundError",
     "evalue": "No module named 'backtesting'",
     "output_type": "error",
     "traceback": [
      "\u001b[1;31m---------------------------------------------------------------------------\u001b[0m",
      "\u001b[1;31mModuleNotFoundError\u001b[0m                       Traceback (most recent call last)",
      "Cell \u001b[1;32mIn[14], line 3\u001b[0m\n\u001b[0;32m      1\u001b[0m \u001b[38;5;28;01mimport\u001b[39;00m \u001b[38;5;21;01mnumpy\u001b[39;00m \u001b[38;5;28;01mas\u001b[39;00m \u001b[38;5;21;01mnumpy\u001b[39;00m\n\u001b[0;32m      2\u001b[0m \u001b[38;5;28;01mimport\u001b[39;00m \u001b[38;5;21;01mpandas\u001b[39;00m \u001b[38;5;28;01mas\u001b[39;00m \u001b[38;5;21;01mpd\u001b[39;00m\n\u001b[1;32m----> 3\u001b[0m \u001b[38;5;28;01mfrom\u001b[39;00m \u001b[38;5;21;01mtradingUtils\u001b[39;00m \u001b[38;5;28;01mimport\u001b[39;00m \u001b[38;5;241m*\u001b[39m\n\u001b[0;32m      4\u001b[0m \u001b[38;5;28;01mimport\u001b[39;00m \u001b[38;5;21;01mta\u001b[39;00m\n",
      "File \u001b[1;32mc:\\Users\\kauan\\OneDrive - Fundacao Getulio Vargas - FGV\\FGV\\Matérias\\Quarto Semestre\\Field Project\\field_project_cartesius\\tradingUtils.py:2\u001b[0m\n\u001b[0;32m      1\u001b[0m \u001b[38;5;28;01mimport\u001b[39;00m \u001b[38;5;21;01mpandas\u001b[39;00m \u001b[38;5;28;01mas\u001b[39;00m \u001b[38;5;21;01mpd\u001b[39;00m\n\u001b[1;32m----> 2\u001b[0m \u001b[38;5;28;01mfrom\u001b[39;00m \u001b[38;5;21;01mbacktesting\u001b[39;00m \u001b[38;5;28;01mimport\u001b[39;00m Strategy, Backtest\n\u001b[0;32m      4\u001b[0m \u001b[38;5;66;03m# Carregando os dados e ajustando o datetime\u001b[39;00m\n\u001b[0;32m      5\u001b[0m tsla_data \u001b[38;5;241m=\u001b[39m pd\u001b[38;5;241m.\u001b[39mread_csv(\u001b[38;5;124m\"\u001b[39m\u001b[38;5;124mdata/TSLA.csv\u001b[39m\u001b[38;5;124m\"\u001b[39m)\n",
      "\u001b[1;31mModuleNotFoundError\u001b[0m: No module named 'backtesting'"
     ]
    }
   ],
   "source": [
    "import numpy as numpy\n",
    "import pandas as pd\n",
    "from tradingUtils import *\n",
    "import ta"
   ]
  },
  {
   "cell_type": "code",
   "execution_count": 52,
   "metadata": {},
   "outputs": [],
   "source": [
    "def ADX(data, adx_period=14):\n",
    "    close = data['Adj Close'].values\n",
    "    open_ = data['Open'].values\n",
    "    high = data['High'].values\n",
    "    low = data['Low'].values\n",
    "    adx = ta.trend.ADXIndicator(high=data['High'], low=data['Low'], close=data['Adj Close'], window=adx_period).adx()\n",
    "    return adx "
   ]
  },
  {
   "cell_type": "code",
   "execution_count": 53,
   "metadata": {},
   "outputs": [],
   "source": [
    "def parabolic_sar(data, acceleration=0.02, max_acceleration=0.2):\n",
    "    high = data['High'].values\n",
    "    low = data['Low'].values\n",
    "    close = data['Adj Close'].values\n",
    "\n",
    "    sar = ta.trend.PSARIndicator(high=high, low=low, close=close, step=acceleration, max_step=max_acceleration).psar()\n",
    "    \n",
    "    return sar\n"
   ]
  },
  {
   "cell_type": "code",
   "execution_count": 54,
   "metadata": {},
   "outputs": [],
   "source": [
    "def parabolic_sar(data, acceleration=0.02, max_acceleration=0.2):\n",
    "    high = data['High'].values\n",
    "    low = data['Low'].values\n",
    "\n",
    "    # Initial settings\n",
    "    sar = []\n",
    "    af = acceleration\n",
    "    ep = high[0]  # Initial Extreme Point (assumed high for the first period)\n",
    "    trend = 1  # Assume starting with an uptrend\n",
    "\n",
    "    for i in range(len(data)):\n",
    "        if i == 0:\n",
    "            sar.append(low[i])  # Initial SAR value is the first low price\n",
    "            continue\n",
    "\n",
    "        prev_sar = sar[-1]  # Previous SAR value\n",
    "\n",
    "        if trend == 1:  # Uptrend\n",
    "            new_sar = prev_sar + af * (ep - prev_sar)\n",
    "            sar.append(min(new_sar, low[i-1], low[i]))  # Ensure SAR doesn't cross the lowest points\n",
    "            if high[i] > ep:\n",
    "                ep = high[i]  # Update extreme point\n",
    "                af = min(af + acceleration, max_acceleration)  # Increase AF\n",
    "            if low[i] < new_sar:  # Trend reversal condition\n",
    "                trend = -1  # Switch to downtrend\n",
    "                sar[-1] = ep  # On reversal, set SAR to the last extreme point\n",
    "                ep = low[i]  # Reset extreme point for the new trend\n",
    "                af = acceleration  # Reset AF\n",
    "\n",
    "        else:  # Downtrend\n",
    "            new_sar = prev_sar + af * (ep - prev_sar)\n",
    "            sar.append(max(new_sar, high[i-1], high[i]))  # Ensure SAR doesn't cross the highest points\n",
    "            if low[i] < ep:\n",
    "                ep = low[i]  # Update extreme point\n",
    "                af = min(af + acceleration, max_acceleration)  # Increase AF\n",
    "            if high[i] > new_sar:  # Trend reversal condition\n",
    "                trend = 1  # Switch to uptrend\n",
    "                sar[-1] = ep  # On reversal, set SAR to the last extreme point\n",
    "                ep = high[i]  # Reset extreme point for the new trend\n",
    "                af = acceleration  # Reset AF\n",
    "\n",
    "    return pd.Series(sar, index=data.index)\n"
   ]
  },
  {
   "cell_type": "code",
   "execution_count": 55,
   "metadata": {},
   "outputs": [],
   "source": [
    "def on_balance_volume(data):\n",
    "    close = data['Adj Close'].values\n",
    "    volume = data['Volume'].values\n",
    "    \n",
    "    obv = [0]  # Initial OBV starts at 0\n",
    "    \n",
    "    for i in range(1, len(close)):\n",
    "        if close[i] > close[i - 1]:\n",
    "            obv.append(obv[-1] + volume[i])  # Add volume if price went up\n",
    "        elif close[i] < close[i - 1]:\n",
    "            obv.append(obv[-1] - volume[i])  # Subtract volume if price went down\n",
    "        else:\n",
    "            obv.append(obv[-1])  # No change if price stayed the same\n",
    "\n",
    "    return pd.Series(obv, index=data.index)\n"
   ]
  },
  {
   "cell_type": "code",
   "execution_count": 56,
   "metadata": {},
   "outputs": [],
   "source": [
    "def average_true_range(data, atr_period=14):\n",
    "    high = data['High'].values\n",
    "    low = data['Low'].values\n",
    "    close = data['Adj Close'].values\n",
    "    \n",
    "    true_ranges = [0]  # Start with a true range of 0 for the first value\n",
    "\n",
    "    for i in range(1, len(close)):\n",
    "        tr1 = high[i] - low[i]  # High - Low\n",
    "        tr2 = abs(high[i] - close[i - 1])  # High - Previous Close\n",
    "        tr3 = abs(low[i] - close[i - 1])  # Low - Previous Close\n",
    "        true_range = max(tr1, tr2, tr3)  # The maximum of the three is the True Range\n",
    "        true_ranges.append(true_range)\n",
    "\n",
    "    # Calculating the ATR using a simple moving average of the true ranges\n",
    "    atr = pd.Series(true_ranges).rolling(window=atr_period).mean()\n",
    "    \n",
    "    return atr\n"
   ]
  },
  {
   "cell_type": "code",
   "execution_count": 57,
   "metadata": {},
   "outputs": [],
   "source": [
    "def commodity_channel_index(data, cci_period=20):\n",
    "    high = data['High'].values\n",
    "    low = data['Low'].values\n",
    "    close = data['Adj Close'].values\n",
    "    \n",
    "    # Calculate Typical Price\n",
    "    typical_price = (high + low + close) / 3\n",
    "\n",
    "    # Calculate moving average of typical price\n",
    "    tp_sma = pd.Series(typical_price).rolling(window=cci_period).mean()\n",
    "\n",
    "    # Calculate Mean Deviation\n",
    "    mean_deviation = pd.Series(typical_price - tp_sma).abs().rolling(window=cci_period).mean()\n",
    "\n",
    "    # Calculate CCI\n",
    "    cci = (typical_price - tp_sma) / (0.015 * mean_deviation)\n",
    "    \n",
    "    return pd.Series(cci, index=data.index)\n"
   ]
  },
  {
   "cell_type": "code",
   "execution_count": 58,
   "metadata": {},
   "outputs": [],
   "source": [
    "def bollinger_bands(data, bb_period=20, num_std=2):\n",
    "    close = data['Adj Close'].values\n",
    "    \n",
    "    # Calculate Simple Moving Average\n",
    "    sma = pd.Series(close).rolling(window=bb_period).mean()\n",
    "\n",
    "    # Calculate standard deviation\n",
    "    std = pd.Series(close).rolling(window=bb_period).std()\n",
    "\n",
    "    # Upper and Lower Bollinger Bands\n",
    "    upper_band = sma + (num_std * std)\n",
    "    lower_band = sma - (num_std * std)\n",
    "\n",
    "    return pd.DataFrame({\n",
    "        'SMA': sma,\n",
    "        'Upper Band': upper_band,\n",
    "        'Lower Band': lower_band\n",
    "    }, index=data.index)\n"
   ]
  },
  {
   "cell_type": "code",
   "execution_count": 59,
   "metadata": {},
   "outputs": [
    {
     "ename": "TypeError",
     "evalue": "run_signal_policy() got an unexpected keyword argument 'exec_back'",
     "output_type": "error",
     "traceback": [
      "\u001b[1;31m---------------------------------------------------------------------------\u001b[0m",
      "\u001b[1;31mTypeError\u001b[0m                                 Traceback (most recent call last)",
      "Cell \u001b[1;32mIn[59], line 2\u001b[0m\n\u001b[0;32m      1\u001b[0m data \u001b[38;5;241m=\u001b[39m tsla_data\u001b[38;5;241m.\u001b[39mcopy()\n\u001b[1;32m----> 2\u001b[0m \u001b[43mrun_signal_policy\u001b[49m\u001b[43m(\u001b[49m\u001b[43mdata\u001b[49m\u001b[43m,\u001b[49m\u001b[43m \u001b[49m\u001b[43mADX\u001b[49m\u001b[43m,\u001b[49m\u001b[43m \u001b[49m\u001b[38;5;124;43m\"\u001b[39;49m\u001b[38;5;124;43mADX\u001b[39;49m\u001b[38;5;124;43m\"\u001b[39;49m\u001b[43m,\u001b[49m\u001b[43m \u001b[49m\u001b[43mexec_back\u001b[49m\u001b[43m \u001b[49m\u001b[38;5;241;43m=\u001b[39;49m\u001b[43m \u001b[49m\u001b[38;5;28;43;01mFalse\u001b[39;49;00m\u001b[43m)\u001b[49m\n\u001b[0;32m      4\u001b[0m data\n",
      "\u001b[1;31mTypeError\u001b[0m: run_signal_policy() got an unexpected keyword argument 'exec_back'"
     ]
    }
   ],
   "source": [
    "data = tsla_data.copy()\n",
    "run_signal_policy(data, ADX, \"ADX\", exec_back = False)\n",
    "\n",
    "data"
   ]
  }
 ],
 "metadata": {
  "kernelspec": {
   "display_name": "Python 3",
   "language": "python",
   "name": "python3"
  },
  "language_info": {
   "codemirror_mode": {
    "name": "ipython",
    "version": 3
   },
   "file_extension": ".py",
   "mimetype": "text/x-python",
   "name": "python",
   "nbconvert_exporter": "python",
   "pygments_lexer": "ipython3",
   "version": "3.11.9"
  }
 },
 "nbformat": 4,
 "nbformat_minor": 2
}
