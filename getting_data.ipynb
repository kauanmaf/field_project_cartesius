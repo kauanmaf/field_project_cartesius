{
 "cells": [
  {
   "cell_type": "code",
   "execution_count": 238,
   "metadata": {},
   "outputs": [],
   "source": [
    "import pandas as pd\n",
    "import numpy as np\n",
    "import yfinance as yf\n",
    "import investpy as inv"
   ]
  },
  {
   "cell_type": "code",
   "execution_count": 239,
   "metadata": {},
   "outputs": [
    {
     "data": {
      "text/html": [
       "<div>\n",
       "<style scoped>\n",
       "    .dataframe tbody tr th:only-of-type {\n",
       "        vertical-align: middle;\n",
       "    }\n",
       "\n",
       "    .dataframe tbody tr th {\n",
       "        vertical-align: top;\n",
       "    }\n",
       "\n",
       "    .dataframe thead th {\n",
       "        text-align: right;\n",
       "    }\n",
       "</style>\n",
       "<table border=\"1\" class=\"dataframe\">\n",
       "  <thead>\n",
       "    <tr style=\"text-align: right;\">\n",
       "      <th></th>\n",
       "      <th>country</th>\n",
       "      <th>name</th>\n",
       "      <th>full_name</th>\n",
       "      <th>isin</th>\n",
       "      <th>currency</th>\n",
       "      <th>symbol</th>\n",
       "    </tr>\n",
       "  </thead>\n",
       "  <tbody>\n",
       "    <tr>\n",
       "      <th>0</th>\n",
       "      <td>brazil</td>\n",
       "      <td>ABC BRASIL PN</td>\n",
       "      <td>Banco ABC Brasil SA</td>\n",
       "      <td>BRABCBACNPR4</td>\n",
       "      <td>BRL</td>\n",
       "      <td>ABCB4</td>\n",
       "    </tr>\n",
       "    <tr>\n",
       "      <th>1</th>\n",
       "      <td>brazil</td>\n",
       "      <td>BRASILAGRO ON</td>\n",
       "      <td>BrasilAgro - Co ON NM</td>\n",
       "      <td>BRAGROACNOR7</td>\n",
       "      <td>BRL</td>\n",
       "      <td>AGRO3</td>\n",
       "    </tr>\n",
       "    <tr>\n",
       "      <th>2</th>\n",
       "      <td>brazil</td>\n",
       "      <td>RUMO ON NM</td>\n",
       "      <td>RUMO Logistica Operadora Multimodal SA</td>\n",
       "      <td>BRRAILACNOR9</td>\n",
       "      <td>BRL</td>\n",
       "      <td>RAIL3</td>\n",
       "    </tr>\n",
       "    <tr>\n",
       "      <th>3</th>\n",
       "      <td>brazil</td>\n",
       "      <td>ALPARGATAS ON</td>\n",
       "      <td>Alpargatas SA</td>\n",
       "      <td>BRALPAACNOR0</td>\n",
       "      <td>BRL</td>\n",
       "      <td>ALPA3</td>\n",
       "    </tr>\n",
       "    <tr>\n",
       "      <th>4</th>\n",
       "      <td>brazil</td>\n",
       "      <td>ALPARGATAS PN</td>\n",
       "      <td>Alpargatas SA</td>\n",
       "      <td>BRALPAACNPR7</td>\n",
       "      <td>BRL</td>\n",
       "      <td>ALPA4</td>\n",
       "    </tr>\n",
       "    <tr>\n",
       "      <th>...</th>\n",
       "      <td>...</td>\n",
       "      <td>...</td>\n",
       "      <td>...</td>\n",
       "      <td>...</td>\n",
       "      <td>...</td>\n",
       "      <td>...</td>\n",
       "    </tr>\n",
       "    <tr>\n",
       "      <th>744</th>\n",
       "      <td>brazil</td>\n",
       "      <td>Integral Brei Reit</td>\n",
       "      <td>Fdo Inv Imob Fof Integral Brei Reit</td>\n",
       "      <td>BRIBFFCTF007</td>\n",
       "      <td>BRL</td>\n",
       "      <td>IBFF11</td>\n",
       "    </tr>\n",
       "    <tr>\n",
       "      <th>745</th>\n",
       "      <td>brazil</td>\n",
       "      <td>Vbi Cri</td>\n",
       "      <td>Fi Imobiliario Vbi Cri</td>\n",
       "      <td>BRCVBICTF001</td>\n",
       "      <td>BRL</td>\n",
       "      <td>CVBI11</td>\n",
       "    </tr>\n",
       "    <tr>\n",
       "      <th>746</th>\n",
       "      <td>brazil</td>\n",
       "      <td>Hedge Realty</td>\n",
       "      <td>Hedge Realty Devl Fdo Inv Imob Etf</td>\n",
       "      <td>BRHRDFCTF000</td>\n",
       "      <td>BRL</td>\n",
       "      <td>HRDF11</td>\n",
       "    </tr>\n",
       "    <tr>\n",
       "      <th>747</th>\n",
       "      <td>brazil</td>\n",
       "      <td>Rb Cap</td>\n",
       "      <td>Rb Cap Desenvolvimento Res Iii Fii</td>\n",
       "      <td>BRRSPDCTF006</td>\n",
       "      <td>BRL</td>\n",
       "      <td>RSPD11</td>\n",
       "    </tr>\n",
       "    <tr>\n",
       "      <th>748</th>\n",
       "      <td>brazil</td>\n",
       "      <td>Treecorp</td>\n",
       "      <td>Treecorp Real Estate Fii I Etf</td>\n",
       "      <td>BRTCPFCTF001</td>\n",
       "      <td>BRL</td>\n",
       "      <td>TCPF11</td>\n",
       "    </tr>\n",
       "  </tbody>\n",
       "</table>\n",
       "<p>749 rows × 6 columns</p>\n",
       "</div>"
      ],
      "text/plain": [
       "    country                name                               full_name  \\\n",
       "0    brazil       ABC BRASIL PN                     Banco ABC Brasil SA   \n",
       "1    brazil       BRASILAGRO ON                   BrasilAgro - Co ON NM   \n",
       "2    brazil          RUMO ON NM  RUMO Logistica Operadora Multimodal SA   \n",
       "3    brazil       ALPARGATAS ON                           Alpargatas SA   \n",
       "4    brazil       ALPARGATAS PN                           Alpargatas SA   \n",
       "..      ...                 ...                                     ...   \n",
       "744  brazil  Integral Brei Reit     Fdo Inv Imob Fof Integral Brei Reit   \n",
       "745  brazil             Vbi Cri                  Fi Imobiliario Vbi Cri   \n",
       "746  brazil        Hedge Realty      Hedge Realty Devl Fdo Inv Imob Etf   \n",
       "747  brazil              Rb Cap      Rb Cap Desenvolvimento Res Iii Fii   \n",
       "748  brazil            Treecorp          Treecorp Real Estate Fii I Etf   \n",
       "\n",
       "             isin currency  symbol  \n",
       "0    BRABCBACNPR4      BRL   ABCB4  \n",
       "1    BRAGROACNOR7      BRL   AGRO3  \n",
       "2    BRRAILACNOR9      BRL   RAIL3  \n",
       "3    BRALPAACNOR0      BRL   ALPA3  \n",
       "4    BRALPAACNPR7      BRL   ALPA4  \n",
       "..            ...      ...     ...  \n",
       "744  BRIBFFCTF007      BRL  IBFF11  \n",
       "745  BRCVBICTF001      BRL  CVBI11  \n",
       "746  BRHRDFCTF000      BRL  HRDF11  \n",
       "747  BRRSPDCTF006      BRL  RSPD11  \n",
       "748  BRTCPFCTF001      BRL  TCPF11  \n",
       "\n",
       "[749 rows x 6 columns]"
      ]
     },
     "execution_count": 239,
     "metadata": {},
     "output_type": "execute_result"
    }
   ],
   "source": [
    "br = inv.get_stocks(country=\"brazil\")\n",
    "br"
   ]
  },
  {
   "cell_type": "code",
   "execution_count": null,
   "metadata": {},
   "outputs": [],
   "source": []
  },
  {
   "cell_type": "code",
   "execution_count": 240,
   "metadata": {},
   "outputs": [],
   "source": [
    "# Reset the index to make Date a column\n",
    "def transform_yf_data(data_stock):\n",
    "    data_stock.reset_index(inplace=True)  \n",
    "    data_stock['Date'] = data_stock['Date'].dt.strftime('%Y-%m-%d')\n",
    "    data_stock.columns = data_stock.columns.droplevel(1)\n",
    "    data_stock.columns.name = None \n",
    "    data_stock.set_index(\"Date\", inplace = True)\n",
    "    return data_stock\n"
   ]
  },
  {
   "cell_type": "code",
   "execution_count": 241,
   "metadata": {},
   "outputs": [
    {
     "data": {
      "text/plain": [
       "['ABEV3.SA',\n",
       " 'AZUL4.SA',\n",
       " 'B3SA3.SA',\n",
       " 'BBAS3.SA',\n",
       " 'BBDC4.SA',\n",
       " 'CMIG4.SA',\n",
       " 'COGN3.SA',\n",
       " 'CPLE6.SA',\n",
       " 'CVCB3.SA',\n",
       " 'FNOR11.SA',\n",
       " 'GGBR4.SA',\n",
       " 'HAPV3.SA',\n",
       " 'ITSA4.SA',\n",
       " 'ITUB4.SA',\n",
       " 'LREN3.SA',\n",
       " 'MGLU3.SA',\n",
       " 'MRVE3.SA',\n",
       " 'PDGR3.SA',\n",
       " 'PETR3.SA',\n",
       " 'PETR4.SA',\n",
       " 'RAIL3.SA',\n",
       " 'USIM5.SA',\n",
       " 'VALE3.SA']"
      ]
     },
     "execution_count": 241,
     "metadata": {},
     "output_type": "execute_result"
    }
   ],
   "source": [
    "import glob\n",
    "\n",
    "files = glob.glob(\"data/new_stocks/*.csv\")\n",
    "tickerss =[]\n",
    "for file in files:\n",
    "    # Extract the part after the last '/' and remove the '.csv' suffix\n",
    "    ticker = file.split(\"\\\\\")[-1][:-4]\n",
    "    tickerss.append(ticker)\n",
    "tickerss"
   ]
  },
  {
   "cell_type": "code",
   "execution_count": 242,
   "metadata": {},
   "outputs": [],
   "source": [
    "\n",
    "def fetch_stocks_above_volume(data, volume_threshold=10_000_000):\n",
    "    # Get all the stocks\n",
    "    # tickers = data['symbol'] + \".SA\"\n",
    "    tickers = data\n",
    "    qualified_stocks = {}\n",
    "\n",
    "    for ticker in tickers:\n",
    "        try:\n",
    "            data_stock = yf.download(ticker, start=\"2010-01-01\", end=\"2024-11-15\")\n",
    "            data_stock = transform_yf_data(data_stock)\n",
    "            # Filter for 2024 data\n",
    "            data_stock_2024 = data_stock[data_stock.index > \"2023-12-31\"].copy()\n",
    "            if data_stock_2024.empty:\n",
    "                print(f\"No 2024 data available for {ticker}\")\n",
    "                continue\n",
    "\n",
    "            # Calculate average volume\n",
    "            avg_volume = int(data_stock_2024['Volume'].mean())\n",
    "            if avg_volume >= volume_threshold:\n",
    "                print(f\"{ticker} qualifies with avg volume: {avg_volume}\")\n",
    "                qualified_stocks[ticker] = data_stock\n",
    "        except Exception as e:\n",
    "            print(f\"Failed to fetch {ticker}: {e}\")\n",
    "\n",
    "    return qualified_stocks"
   ]
  },
  {
   "cell_type": "code",
   "execution_count": 243,
   "metadata": {},
   "outputs": [],
   "source": [
    "\n",
    "def calculate_volatility(ticker, data):\n",
    "    # Filter for 2024 data\n",
    "    data_stock = data[data.index > \"2023-12-31\"].copy()\n",
    "    try:\n",
    "        # Calculate log returns\n",
    "        data_stock['Log Return'] = np.log(data_stock['Adj Close'] / data_stock['Adj Close'].shift(1))\n",
    "\n",
    "        # Calculate annualized volatility\n",
    "        volatility = np.std(data_stock['Log Return'].dropna()) * np.sqrt(252)\n",
    "        return volatility\n",
    "    except Exception as e:\n",
    "        print(f\"Failed to calculate volatility for {ticker}: {e}\")\n",
    "        return None\n"
   ]
  },
  {
   "cell_type": "code",
   "execution_count": 244,
   "metadata": {},
   "outputs": [
    {
     "name": "stderr",
     "output_type": "stream",
     "text": [
      "[*********************100%***********************]  1 of 1 completed\n",
      "[*********************100%***********************]  1 of 1 completed\n"
     ]
    },
    {
     "name": "stdout",
     "output_type": "stream",
     "text": [
      "ABEV3.SA qualifies with avg volume: 27689635\n",
      "AZUL4.SA qualifies with avg volume: 19454729\n"
     ]
    },
    {
     "name": "stderr",
     "output_type": "stream",
     "text": [
      "[*********************100%***********************]  1 of 1 completed\n",
      "[*********************100%***********************]  1 of 1 completed\n"
     ]
    },
    {
     "name": "stdout",
     "output_type": "stream",
     "text": [
      "B3SA3.SA qualifies with avg volume: 42203145\n",
      "BBAS3.SA qualifies with avg volume: 16670633\n"
     ]
    },
    {
     "name": "stderr",
     "output_type": "stream",
     "text": [
      "[*********************100%***********************]  1 of 1 completed\n",
      "[*********************100%***********************]  1 of 1 completed\n",
      "[*********************100%***********************]  1 of 1 completed"
     ]
    },
    {
     "name": "stdout",
     "output_type": "stream",
     "text": [
      "BBDC4.SA qualifies with avg volume: 38019779\n",
      "CMIG4.SA qualifies with avg volume: 13622689\n",
      "COGN3.SA qualifies with avg volume: 34866591\n"
     ]
    },
    {
     "name": "stderr",
     "output_type": "stream",
     "text": [
      "\n",
      "[*********************100%***********************]  1 of 1 completed\n",
      "[*********************100%***********************]  1 of 1 completed\n",
      "[*********************100%***********************]  1 of 1 completed\n"
     ]
    },
    {
     "name": "stdout",
     "output_type": "stream",
     "text": [
      "CPLE6.SA qualifies with avg volume: 14299732\n",
      "CVCB3.SA qualifies with avg volume: 17802943\n",
      "FNOR11.SA qualifies with avg volume: 10109470\n"
     ]
    },
    {
     "name": "stderr",
     "output_type": "stream",
     "text": [
      "[*********************100%***********************]  1 of 1 completed\n",
      "[*********************100%***********************]  1 of 1 completed\n",
      "[*********************100%***********************]  1 of 1 completed"
     ]
    },
    {
     "name": "stdout",
     "output_type": "stream",
     "text": [
      "GGBR4.SA qualifies with avg volume: 12141407\n",
      "HAPV3.SA qualifies with avg volume: 64878583\n",
      "ITSA4.SA qualifies with avg volume: 21161116\n"
     ]
    },
    {
     "name": "stderr",
     "output_type": "stream",
     "text": [
      "\n",
      "[*********************100%***********************]  1 of 1 completed\n",
      "[*********************100%***********************]  1 of 1 completed\n",
      "[*********************100%***********************]  1 of 1 completed\n"
     ]
    },
    {
     "name": "stdout",
     "output_type": "stream",
     "text": [
      "ITUB4.SA qualifies with avg volume: 23148391\n",
      "LREN3.SA qualifies with avg volume: 16791762\n"
     ]
    },
    {
     "name": "stderr",
     "output_type": "stream",
     "text": [
      "[*********************100%***********************]  1 of 1 completed\n",
      "[*********************100%***********************]  1 of 1 completed"
     ]
    },
    {
     "name": "stdout",
     "output_type": "stream",
     "text": [
      "MGLU3.SA qualifies with avg volume: 18905270\n",
      "MRVE3.SA qualifies with avg volume: 15100688\n",
      "PDGR3.SA qualifies with avg volume: 16484622\n"
     ]
    },
    {
     "name": "stderr",
     "output_type": "stream",
     "text": [
      "\n",
      "[*********************100%***********************]  1 of 1 completed\n",
      "[*********************100%***********************]  1 of 1 completed\n",
      "[*********************100%***********************]  1 of 1 completed\n"
     ]
    },
    {
     "name": "stdout",
     "output_type": "stream",
     "text": [
      "PETR3.SA qualifies with avg volume: 10877329\n",
      "PETR4.SA qualifies with avg volume: 37207772\n",
      "RAIL3.SA qualifies with avg volume: 11783735\n"
     ]
    },
    {
     "name": "stderr",
     "output_type": "stream",
     "text": [
      "[*********************100%***********************]  1 of 1 completed\n",
      "[*********************100%***********************]  1 of 1 completed"
     ]
    },
    {
     "name": "stdout",
     "output_type": "stream",
     "text": [
      "USIM5.SA qualifies with avg volume: 13736536\n",
      "VALE3.SA qualifies with avg volume: 23347270\n"
     ]
    },
    {
     "name": "stderr",
     "output_type": "stream",
     "text": [
      "\n"
     ]
    }
   ],
   "source": [
    "# Main workflow\n",
    "volume_threshold = 10_000_000\n",
    "stocks = fetch_stocks_above_volume(tickerss, volume_threshold)"
   ]
  },
  {
   "cell_type": "code",
   "execution_count": 245,
   "metadata": {},
   "outputs": [
    {
     "name": "stdout",
     "output_type": "stream",
     "text": [
      "        Stock  Volatility\n",
      "0    ABEV3.SA    0.178437\n",
      "1    AZUL4.SA    0.753509\n",
      "2    B3SA3.SA    0.270644\n",
      "3    BBAS3.SA    0.160384\n",
      "4    BBDC4.SA    0.278162\n",
      "5    CMIG4.SA    0.250826\n",
      "6    COGN3.SA    0.549224\n",
      "7    CPLE6.SA    0.187297\n",
      "8    CVCB3.SA    0.589290\n",
      "9   FNOR11.SA    0.629313\n",
      "10   GGBR4.SA    0.279886\n",
      "11   HAPV3.SA    0.387972\n",
      "12   ITSA4.SA    0.168577\n",
      "13   ITUB4.SA    0.173786\n",
      "14   LREN3.SA    0.405542\n",
      "15   MGLU3.SA    0.583931\n",
      "16   MRVE3.SA    0.461754\n",
      "17   PDGR3.SA    2.373320\n",
      "18   PETR3.SA    0.281009\n",
      "19   PETR4.SA    0.254988\n",
      "20   RAIL3.SA    0.244958\n",
      "21   USIM5.SA    0.480460\n",
      "22   VALE3.SA    0.226241\n"
     ]
    }
   ],
   "source": [
    "import os\n",
    "import json\n",
    "\n",
    "results = []\n",
    "\n",
    "for ticker, stock in stocks.items():\n",
    "    vol = calculate_volatility(ticker, stock)\n",
    "    if vol is not None:\n",
    "        results.append({\"Stock\": ticker, \"Volatility\": vol})\n",
    "        file_path = os.path.join(\"data/new_stocks/\", f\"{ticker}.csv\")\n",
    "        stock.to_csv(file_path)\n",
    "\n",
    "file_path = \"data/new_stocks/volatility.json\"\n",
    "with open(file_path, \"w\") as f:\n",
    "    json.dump(results, f)\n",
    "# Convert to DataFrame for better representation\n",
    "df_results = pd.DataFrame(results)\n",
    "print(df_results)"
   ]
  }
 ],
 "metadata": {
  "kernelspec": {
   "display_name": "Python 3",
   "language": "python",
   "name": "python3"
  },
  "language_info": {
   "codemirror_mode": {
    "name": "ipython",
    "version": 3
   },
   "file_extension": ".py",
   "mimetype": "text/x-python",
   "name": "python",
   "nbconvert_exporter": "python",
   "pygments_lexer": "ipython3",
   "version": "3.11.9"
  }
 },
 "nbformat": 4,
 "nbformat_minor": 2
}
